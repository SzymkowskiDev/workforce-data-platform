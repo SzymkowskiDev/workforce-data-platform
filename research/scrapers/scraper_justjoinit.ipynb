{
 "cells": [
  {
   "cell_type": "code",
   "execution_count": 1,
   "metadata": {},
   "outputs": [],
   "source": [
    "import requests\n",
    "import json\n",
    "\n",
    "url = \"https://justjoin.it/api/offers\"\n",
    "\n",
    "response = requests.get(url)\n",
    "\n",
    "raw_data = response.json()\n",
    "data = [{\"title\": item[\"title\"], \"street\": item[\"street\"], \"country_code\": item[\"country_code\"], \"address_text\": item[\"address_text\"], \"marker_icon\": item[\"marker_icon\"], \"workplace_type\": item[\"workplace_type\"], \"company_name\": item[\"company_name\"], \"company_url\": item[\"company_url\"], \"company_size\": item[\"company_size\"], \"experience_level\": item[\"experience_level\"], \"id\": item[\"id\"], \"employment_types\": item[\"employment_types\"], \"skills\": item[\"skills\"], \"remote\": item[\"remote\"], \"multilocation\": item[\"multilocation\"]} for item in raw_data]\n",
    "with open(\"iustioinit_offerts.json\", \"w\") as f:\n",
    "    json.dump(data, f)\n"
   ]
  },
  {
   "cell_type": "code",
   "execution_count": null,
   "metadata": {},
   "outputs": [],
   "source": []
  }
 ],
 "metadata": {
  "kernelspec": {
   "display_name": "Python 3",
   "language": "python",
   "name": "python3"
  },
  "language_info": {
   "codemirror_mode": {
    "name": "ipython",
    "version": 3
   },
   "file_extension": ".py",
   "mimetype": "text/x-python",
   "name": "python",
   "nbconvert_exporter": "python",
   "pygments_lexer": "ipython3",
   "version": "3.10.5"
  },
  "orig_nbformat": 4
 },
 "nbformat": 4,
 "nbformat_minor": 2
}
